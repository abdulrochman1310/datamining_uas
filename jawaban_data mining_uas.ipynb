{
 "cells": [
  {
   "cell_type": "code",
   "execution_count": null,
   "id": "d690ba9c-60fe-43a3-9c61-100cf41398bf",
   "metadata": {},
   "outputs": [],
   "source": [
    "import numpy as np\n",
    "import pandas as pd\n",
    "import matplotlib.pyplot as plt\n",
    "import seaborn as sns\n",
    "import scipy as sp\n",
    "datmin - pd.read_csv(\"diabetes.csv\",sep-\";\")\n",
    "datmin.head(5)"
   ]
  },
  {
   "cell_type": "code",
   "execution_count": null,
   "id": "52d6bb39-048f-40a9-a4c6-9653a6960844",
   "metadata": {},
   "outputs": [],
   "source": [
    "DATASET MERUPAKAN DATA YANG DI AMBIL DARI PIMA INDIAN DATASET YANG DI AMBIL DARI KAGGLE"
   ]
  },
  {
   "cell_type": "code",
   "execution_count": null,
   "id": "580c444c-7497-4381-8830-30538ef84ae6",
   "metadata": {},
   "outputs": [],
   "source": [
    "#mengimport data"
   ]
  },
  {
   "cell_type": "code",
   "execution_count": null,
   "id": "a907fe9e-ea7b-4b52-a47a-630109367ce2",
   "metadata": {},
   "outputs": [],
   "source": [
    "EDA"
   ]
  },
  {
   "cell_type": "code",
   "execution_count": null,
   "id": "83cb398a-750a-4938-b2e5-d634f69746be",
   "metadata": {},
   "outputs": [],
   "source": [
    "#mengimport data"
   ]
  },
  {
   "cell_type": "code",
   "execution_count": null,
   "id": "feed27d0-24a1-4525-a2ef-822c0227c7d3",
   "metadata": {},
   "outputs": [],
   "source": [
    "SKEWNES"
   ]
  },
  {
   "cell_type": "code",
   "execution_count": null,
   "id": "b8210ba0-af2e-4484-8dad-2f1d99ce51e8",
   "metadata": {},
   "outputs": [],
   "source": [
    "#mengimport data"
   ]
  },
  {
   "cell_type": "code",
   "execution_count": null,
   "id": "531a98a9-a96d-417e-ad7c-73ee5cf6de58",
   "metadata": {},
   "outputs": [],
   "source": [
    "PRE PROCESSING"
   ]
  },
  {
   "cell_type": "code",
   "execution_count": null,
   "id": "22698bdc-0936-4b62-8d24-c1f0be9191f8",
   "metadata": {},
   "outputs": [],
   "source": [
    "#mengimport data"
   ]
  },
  {
   "cell_type": "code",
   "execution_count": null,
   "id": "54495727-2020-4577-ad3b-a24ccd327498",
   "metadata": {},
   "outputs": [],
   "source": [
    "MISSING VALUE"
   ]
  },
  {
   "cell_type": "code",
   "execution_count": null,
   "id": "66aecba4-99e7-4854-96d8-d91158f10525",
   "metadata": {},
   "outputs": [],
   "source": [
    "#mengimport data"
   ]
  },
  {
   "cell_type": "markdown",
   "id": "63219346-e8cd-49b9-9aa7-cd0f53443e18",
   "metadata": {},
   "source": [
    "IMPUTASI MISSING VALUE"
   ]
  },
  {
   "cell_type": "code",
   "execution_count": null,
   "id": "667aa2b6-a7fa-4f8b-9e10-4c190384d622",
   "metadata": {},
   "outputs": [],
   "source": [
    "#mengimport data"
   ]
  },
  {
   "cell_type": "code",
   "execution_count": null,
   "id": "c90c52c8-48f6-45cf-b587-27cc1f947902",
   "metadata": {},
   "outputs": [],
   "source": [
    "OUTLIER"
   ]
  },
  {
   "cell_type": "code",
   "execution_count": null,
   "id": "2a2205bf-8216-47db-848a-769b8ab88772",
   "metadata": {},
   "outputs": [],
   "source": [
    "#mengimport data"
   ]
  }
 ],
 "metadata": {
  "kernelspec": {
   "display_name": "Python 3 (ipykernel)",
   "language": "python",
   "name": "python3"
  },
  "language_info": {
   "codemirror_mode": {
    "name": "ipython",
    "version": 3
   },
   "file_extension": ".py",
   "mimetype": "text/x-python",
   "name": "python",
   "nbconvert_exporter": "python",
   "pygments_lexer": "ipython3",
   "version": "3.11.7"
  }
 },
 "nbformat": 4,
 "nbformat_minor": 5
}
